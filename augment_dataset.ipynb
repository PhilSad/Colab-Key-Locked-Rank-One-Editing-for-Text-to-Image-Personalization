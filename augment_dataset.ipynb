{
 "cells": [
  {
   "cell_type": "code",
   "execution_count": 2,
   "metadata": {},
   "outputs": [],
   "source": [
    "from PIL import Image\n",
    "import torchvision.transforms as transforms\n",
    "from diffusers import StableDiffusionInpaintPipeline\n",
    "import torch\n",
    "from pathlib import Path\n",
    "import os"
   ]
  },
  {
   "cell_type": "code",
   "execution_count": 27,
   "metadata": {},
   "outputs": [],
   "source": [
    "ref_image_path = Path('./training_data/phil/phil_head.png')\n",
    "ref_image = Image.open(ref_image_path)"
   ]
  },
  {
   "cell_type": "code",
   "execution_count": 22,
   "metadata": {},
   "outputs": [],
   "source": [
    "\n",
    "train_transform = transforms.Compose([\n",
    "    transforms.Resize(512),\n",
    "    transforms.CenterCrop(512),\n",
    "    transforms.RandomHorizontalFlip(),\n",
    "    transforms.RandomRotation(20),\n",
    "    transforms.Pad(30),\n",
    "    transforms.Resize(512)\n",
    "])\n",
    "\n",
    "transformed_image = train_transform(ref_image)\n"
   ]
  },
  {
   "cell_type": "code",
   "execution_count": 18,
   "metadata": {},
   "outputs": [],
   "source": [
    "def compute_transparency_mask(image):\n",
    "    \"\"\"Compute transparency mask for an image.\n",
    "    Args:\n",
    "        image (PIL.Image): Input image.\n",
    "    Returns:\n",
    "        PIL.Image: Inverted Transparency mask.\n",
    "    \"\"\"\n",
    "    if image.mode != 'RGBA':\n",
    "        image = image.convert('RGBA')\n",
    "    alpha = image.split()[3]\n",
    "    mask = Image.eval(alpha, lambda a: 255 if a <=128 else 0)\n",
    "    return mask"
   ]
  },
  {
   "cell_type": "code",
   "execution_count": 28,
   "metadata": {},
   "outputs": [],
   "source": [
    "def outpaint(pipe_inpaint, image, mask):\n",
    "    prompt = \"a photo of a person, highly detailed, soft natural lighting, photo realism, professional portrait, ultra-detailed, 4k resolution, wallpaper, hd wallpaper\"\n",
    "    negative_prompt = \"magzine, frame, tiled, repeated, multiple people, multiple faces, group of people, split frame, multiple panel, split image, watermark, boarder, diptych, triptych\"\n",
    "    image = pipe_inpaint(prompt=prompt, \n",
    "                 image=image, \n",
    "                 mask_image=mask,\n",
    "                 num_inference_steps=50).images[0]\n",
    "    return image\n",
    "\n",
    "    "
   ]
  },
  {
   "cell_type": "code",
   "execution_count": null,
   "metadata": {},
   "outputs": [],
   "source": []
  },
  {
   "cell_type": "code",
   "execution_count": null,
   "metadata": {},
   "outputs": [],
   "source": [
    "nb_images = 10\n",
    "\n",
    "save_folder = './training_data/' + ref_image_path.stem + '_augmented'\n",
    "save_folder = \n",
    "if not os.path.exists(save_folder):\n",
    "    os.makedirs(save_folder)\n",
    "\n",
    "\n",
    "pipe_inpaint = StableDiffusionInpaintPipeline.from_pretrained(\n",
    "    \"stabilityai/stable-diffusion-2-inpainting\",\n",
    "    torch_dtype=torch.float16,\n",
    ").to(\"cuda\")\n",
    "\n",
    "for i in range(nb_images):\n",
    "    transformed_image = train_transform(ref_image)\n",
    "    mask = compute_transparency_mask(transformed_image)\n",
    "    outpainted_image = outpaint(pipe_inpaint, transformed_image, mask)\n",
    "    outpainted_image.save(save_folder + f'/{i}.png')\n",
    "    print(f'Image {i} done')\n",
    "    outpainted_image.show()"
   ]
  }
 ],
 "metadata": {
  "kernelspec": {
   "display_name": "Python 3",
   "language": "python",
   "name": "python3"
  },
  "language_info": {
   "codemirror_mode": {
    "name": "ipython",
    "version": 3
   },
   "file_extension": ".py",
   "mimetype": "text/x-python",
   "name": "python",
   "nbconvert_exporter": "python",
   "pygments_lexer": "ipython3",
   "version": "3.10.8"
  }
 },
 "nbformat": 4,
 "nbformat_minor": 2
}
